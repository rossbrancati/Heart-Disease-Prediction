{
 "cells": [
  {
   "cell_type": "markdown",
   "id": "c7bce10e",
   "metadata": {},
   "source": [
    "# Heart disease prediction\n",
    "\n",
    "Notebook containing EDA and prediction models for predicting heart disease using the UCI dataset. \n",
    "\n",
    "Dataset available here: https://www.kaggle.com/datasets/redwankarimsony/heart-disease-data\n",
    "\n",
    "\n",
    "Using a simple classification model, we are able to accurately classify people with and without heart disease with ~85% accuracy.\n"
   ]
  },
  {
   "cell_type": "code",
   "execution_count": 81,
   "id": "16aaaa51",
   "metadata": {},
   "outputs": [],
   "source": [
    "import numpy as np\n",
    "import pandas as pd\n",
    "import matplotlib.pyplot as plt\n",
    "import seaborn as sns\n",
    "\n",
    "from sklearn.preprocessing import StandardScaler\n",
    "from sklearn.model_selection import train_test_split\n",
    "from sklearn.neighbors import KNeighborsClassifier\n",
    "from sklearn.svm import SVC\n",
    "from sklearn.tree import DecisionTreeClassifier\n",
    "from sklearn.linear_model import LogisticRegression\n",
    "from sklearn.metrics import accuracy_score, classification_report, confusion_matrix"
   ]
  },
  {
   "cell_type": "code",
   "execution_count": 6,
   "id": "e2430058",
   "metadata": {},
   "outputs": [
    {
     "data": {
      "text/html": [
       "<div>\n",
       "<style scoped>\n",
       "    .dataframe tbody tr th:only-of-type {\n",
       "        vertical-align: middle;\n",
       "    }\n",
       "\n",
       "    .dataframe tbody tr th {\n",
       "        vertical-align: top;\n",
       "    }\n",
       "\n",
       "    .dataframe thead th {\n",
       "        text-align: right;\n",
       "    }\n",
       "</style>\n",
       "<table border=\"1\" class=\"dataframe\">\n",
       "  <thead>\n",
       "    <tr style=\"text-align: right;\">\n",
       "      <th></th>\n",
       "      <th>id</th>\n",
       "      <th>age</th>\n",
       "      <th>sex</th>\n",
       "      <th>dataset</th>\n",
       "      <th>cp</th>\n",
       "      <th>trestbps</th>\n",
       "      <th>chol</th>\n",
       "      <th>fbs</th>\n",
       "      <th>restecg</th>\n",
       "      <th>thalch</th>\n",
       "      <th>exang</th>\n",
       "      <th>oldpeak</th>\n",
       "      <th>slope</th>\n",
       "      <th>ca</th>\n",
       "      <th>thal</th>\n",
       "      <th>num</th>\n",
       "    </tr>\n",
       "  </thead>\n",
       "  <tbody>\n",
       "    <tr>\n",
       "      <th>0</th>\n",
       "      <td>1</td>\n",
       "      <td>63</td>\n",
       "      <td>Male</td>\n",
       "      <td>Cleveland</td>\n",
       "      <td>typical angina</td>\n",
       "      <td>145.0</td>\n",
       "      <td>233.0</td>\n",
       "      <td>True</td>\n",
       "      <td>lv hypertrophy</td>\n",
       "      <td>150.0</td>\n",
       "      <td>False</td>\n",
       "      <td>2.3</td>\n",
       "      <td>downsloping</td>\n",
       "      <td>0.0</td>\n",
       "      <td>fixed defect</td>\n",
       "      <td>0</td>\n",
       "    </tr>\n",
       "    <tr>\n",
       "      <th>1</th>\n",
       "      <td>2</td>\n",
       "      <td>67</td>\n",
       "      <td>Male</td>\n",
       "      <td>Cleveland</td>\n",
       "      <td>asymptomatic</td>\n",
       "      <td>160.0</td>\n",
       "      <td>286.0</td>\n",
       "      <td>False</td>\n",
       "      <td>lv hypertrophy</td>\n",
       "      <td>108.0</td>\n",
       "      <td>True</td>\n",
       "      <td>1.5</td>\n",
       "      <td>flat</td>\n",
       "      <td>3.0</td>\n",
       "      <td>normal</td>\n",
       "      <td>2</td>\n",
       "    </tr>\n",
       "    <tr>\n",
       "      <th>2</th>\n",
       "      <td>3</td>\n",
       "      <td>67</td>\n",
       "      <td>Male</td>\n",
       "      <td>Cleveland</td>\n",
       "      <td>asymptomatic</td>\n",
       "      <td>120.0</td>\n",
       "      <td>229.0</td>\n",
       "      <td>False</td>\n",
       "      <td>lv hypertrophy</td>\n",
       "      <td>129.0</td>\n",
       "      <td>True</td>\n",
       "      <td>2.6</td>\n",
       "      <td>flat</td>\n",
       "      <td>2.0</td>\n",
       "      <td>reversable defect</td>\n",
       "      <td>1</td>\n",
       "    </tr>\n",
       "    <tr>\n",
       "      <th>3</th>\n",
       "      <td>4</td>\n",
       "      <td>37</td>\n",
       "      <td>Male</td>\n",
       "      <td>Cleveland</td>\n",
       "      <td>non-anginal</td>\n",
       "      <td>130.0</td>\n",
       "      <td>250.0</td>\n",
       "      <td>False</td>\n",
       "      <td>normal</td>\n",
       "      <td>187.0</td>\n",
       "      <td>False</td>\n",
       "      <td>3.5</td>\n",
       "      <td>downsloping</td>\n",
       "      <td>0.0</td>\n",
       "      <td>normal</td>\n",
       "      <td>0</td>\n",
       "    </tr>\n",
       "    <tr>\n",
       "      <th>4</th>\n",
       "      <td>5</td>\n",
       "      <td>41</td>\n",
       "      <td>Female</td>\n",
       "      <td>Cleveland</td>\n",
       "      <td>atypical angina</td>\n",
       "      <td>130.0</td>\n",
       "      <td>204.0</td>\n",
       "      <td>False</td>\n",
       "      <td>lv hypertrophy</td>\n",
       "      <td>172.0</td>\n",
       "      <td>False</td>\n",
       "      <td>1.4</td>\n",
       "      <td>upsloping</td>\n",
       "      <td>0.0</td>\n",
       "      <td>normal</td>\n",
       "      <td>0</td>\n",
       "    </tr>\n",
       "  </tbody>\n",
       "</table>\n",
       "</div>"
      ],
      "text/plain": [
       "   id  age     sex    dataset               cp  trestbps   chol    fbs  \\\n",
       "0   1   63    Male  Cleveland   typical angina     145.0  233.0   True   \n",
       "1   2   67    Male  Cleveland     asymptomatic     160.0  286.0  False   \n",
       "2   3   67    Male  Cleveland     asymptomatic     120.0  229.0  False   \n",
       "3   4   37    Male  Cleveland      non-anginal     130.0  250.0  False   \n",
       "4   5   41  Female  Cleveland  atypical angina     130.0  204.0  False   \n",
       "\n",
       "          restecg  thalch  exang  oldpeak        slope   ca  \\\n",
       "0  lv hypertrophy   150.0  False      2.3  downsloping  0.0   \n",
       "1  lv hypertrophy   108.0   True      1.5         flat  3.0   \n",
       "2  lv hypertrophy   129.0   True      2.6         flat  2.0   \n",
       "3          normal   187.0  False      3.5  downsloping  0.0   \n",
       "4  lv hypertrophy   172.0  False      1.4    upsloping  0.0   \n",
       "\n",
       "                thal  num  \n",
       "0       fixed defect    0  \n",
       "1             normal    2  \n",
       "2  reversable defect    1  \n",
       "3             normal    0  \n",
       "4             normal    0  "
      ]
     },
     "execution_count": 6,
     "metadata": {},
     "output_type": "execute_result"
    }
   ],
   "source": [
    "# Load dataset\n",
    "data = pd.read_csv('heart_disease_uci.csv')\n",
    "data.head()"
   ]
  },
  {
   "cell_type": "markdown",
   "id": "03c7f8a3",
   "metadata": {},
   "source": [
    "We see that there are several categorical variables in the dataset that need to be encoded. The numerical variables also need to be scaled. "
   ]
  },
  {
   "cell_type": "code",
   "execution_count": 24,
   "id": "7bbf8dbf",
   "metadata": {},
   "outputs": [
    {
     "data": {
      "text/html": [
       "<div>\n",
       "<style scoped>\n",
       "    .dataframe tbody tr th:only-of-type {\n",
       "        vertical-align: middle;\n",
       "    }\n",
       "\n",
       "    .dataframe tbody tr th {\n",
       "        vertical-align: top;\n",
       "    }\n",
       "\n",
       "    .dataframe thead th {\n",
       "        text-align: right;\n",
       "    }\n",
       "</style>\n",
       "<table border=\"1\" class=\"dataframe\">\n",
       "  <thead>\n",
       "    <tr style=\"text-align: right;\">\n",
       "      <th></th>\n",
       "      <th>id</th>\n",
       "      <th>age</th>\n",
       "      <th>dataset</th>\n",
       "      <th>trestbps</th>\n",
       "      <th>chol</th>\n",
       "      <th>thalch</th>\n",
       "      <th>oldpeak</th>\n",
       "      <th>num</th>\n",
       "      <th>sex_Female</th>\n",
       "      <th>sex_Male</th>\n",
       "      <th>...</th>\n",
       "      <th>slope_downsloping</th>\n",
       "      <th>slope_flat</th>\n",
       "      <th>slope_upsloping</th>\n",
       "      <th>ca_0.0</th>\n",
       "      <th>ca_1.0</th>\n",
       "      <th>ca_2.0</th>\n",
       "      <th>ca_3.0</th>\n",
       "      <th>thal_fixed defect</th>\n",
       "      <th>thal_normal</th>\n",
       "      <th>thal_reversable defect</th>\n",
       "    </tr>\n",
       "  </thead>\n",
       "  <tbody>\n",
       "    <tr>\n",
       "      <th>0</th>\n",
       "      <td>1</td>\n",
       "      <td>63</td>\n",
       "      <td>Cleveland</td>\n",
       "      <td>145.0</td>\n",
       "      <td>233.0</td>\n",
       "      <td>150.0</td>\n",
       "      <td>2.3</td>\n",
       "      <td>0</td>\n",
       "      <td>0</td>\n",
       "      <td>1</td>\n",
       "      <td>...</td>\n",
       "      <td>1</td>\n",
       "      <td>0</td>\n",
       "      <td>0</td>\n",
       "      <td>1</td>\n",
       "      <td>0</td>\n",
       "      <td>0</td>\n",
       "      <td>0</td>\n",
       "      <td>1</td>\n",
       "      <td>0</td>\n",
       "      <td>0</td>\n",
       "    </tr>\n",
       "    <tr>\n",
       "      <th>1</th>\n",
       "      <td>2</td>\n",
       "      <td>67</td>\n",
       "      <td>Cleveland</td>\n",
       "      <td>160.0</td>\n",
       "      <td>286.0</td>\n",
       "      <td>108.0</td>\n",
       "      <td>1.5</td>\n",
       "      <td>2</td>\n",
       "      <td>0</td>\n",
       "      <td>1</td>\n",
       "      <td>...</td>\n",
       "      <td>0</td>\n",
       "      <td>1</td>\n",
       "      <td>0</td>\n",
       "      <td>0</td>\n",
       "      <td>0</td>\n",
       "      <td>0</td>\n",
       "      <td>1</td>\n",
       "      <td>0</td>\n",
       "      <td>1</td>\n",
       "      <td>0</td>\n",
       "    </tr>\n",
       "    <tr>\n",
       "      <th>2</th>\n",
       "      <td>3</td>\n",
       "      <td>67</td>\n",
       "      <td>Cleveland</td>\n",
       "      <td>120.0</td>\n",
       "      <td>229.0</td>\n",
       "      <td>129.0</td>\n",
       "      <td>2.6</td>\n",
       "      <td>1</td>\n",
       "      <td>0</td>\n",
       "      <td>1</td>\n",
       "      <td>...</td>\n",
       "      <td>0</td>\n",
       "      <td>1</td>\n",
       "      <td>0</td>\n",
       "      <td>0</td>\n",
       "      <td>0</td>\n",
       "      <td>1</td>\n",
       "      <td>0</td>\n",
       "      <td>0</td>\n",
       "      <td>0</td>\n",
       "      <td>1</td>\n",
       "    </tr>\n",
       "    <tr>\n",
       "      <th>3</th>\n",
       "      <td>4</td>\n",
       "      <td>37</td>\n",
       "      <td>Cleveland</td>\n",
       "      <td>130.0</td>\n",
       "      <td>250.0</td>\n",
       "      <td>187.0</td>\n",
       "      <td>3.5</td>\n",
       "      <td>0</td>\n",
       "      <td>0</td>\n",
       "      <td>1</td>\n",
       "      <td>...</td>\n",
       "      <td>1</td>\n",
       "      <td>0</td>\n",
       "      <td>0</td>\n",
       "      <td>1</td>\n",
       "      <td>0</td>\n",
       "      <td>0</td>\n",
       "      <td>0</td>\n",
       "      <td>0</td>\n",
       "      <td>1</td>\n",
       "      <td>0</td>\n",
       "    </tr>\n",
       "    <tr>\n",
       "      <th>4</th>\n",
       "      <td>5</td>\n",
       "      <td>41</td>\n",
       "      <td>Cleveland</td>\n",
       "      <td>130.0</td>\n",
       "      <td>204.0</td>\n",
       "      <td>172.0</td>\n",
       "      <td>1.4</td>\n",
       "      <td>0</td>\n",
       "      <td>1</td>\n",
       "      <td>0</td>\n",
       "      <td>...</td>\n",
       "      <td>0</td>\n",
       "      <td>0</td>\n",
       "      <td>1</td>\n",
       "      <td>1</td>\n",
       "      <td>0</td>\n",
       "      <td>0</td>\n",
       "      <td>0</td>\n",
       "      <td>0</td>\n",
       "      <td>1</td>\n",
       "      <td>0</td>\n",
       "    </tr>\n",
       "  </tbody>\n",
       "</table>\n",
       "<p>5 rows × 31 columns</p>\n",
       "</div>"
      ],
      "text/plain": [
       "   id  age    dataset  trestbps   chol  thalch  oldpeak  num  sex_Female  \\\n",
       "0   1   63  Cleveland     145.0  233.0   150.0      2.3    0           0   \n",
       "1   2   67  Cleveland     160.0  286.0   108.0      1.5    2           0   \n",
       "2   3   67  Cleveland     120.0  229.0   129.0      2.6    1           0   \n",
       "3   4   37  Cleveland     130.0  250.0   187.0      3.5    0           0   \n",
       "4   5   41  Cleveland     130.0  204.0   172.0      1.4    0           1   \n",
       "\n",
       "   sex_Male  ...  slope_downsloping  slope_flat  slope_upsloping  ca_0.0  \\\n",
       "0         1  ...                  1           0                0       1   \n",
       "1         1  ...                  0           1                0       0   \n",
       "2         1  ...                  0           1                0       0   \n",
       "3         1  ...                  1           0                0       1   \n",
       "4         0  ...                  0           0                1       1   \n",
       "\n",
       "   ca_1.0  ca_2.0  ca_3.0  thal_fixed defect  thal_normal  \\\n",
       "0       0       0       0                  1            0   \n",
       "1       0       0       1                  0            1   \n",
       "2       0       1       0                  0            0   \n",
       "3       0       0       0                  0            1   \n",
       "4       0       0       0                  0            1   \n",
       "\n",
       "   thal_reversable defect  \n",
       "0                       0  \n",
       "1                       0  \n",
       "2                       1  \n",
       "3                       0  \n",
       "4                       0  \n",
       "\n",
       "[5 rows x 31 columns]"
      ]
     },
     "execution_count": 24,
     "metadata": {},
     "output_type": "execute_result"
    }
   ],
   "source": [
    "# Encode variables\n",
    "data_1 = pd.get_dummies(data, columns = ['sex', 'cp', 'fbs', 'restecg', 'exang', 'slope', 'ca', 'thal'])\n",
    "\n",
    "\n",
    "# Map True to 1 and False to 0 in encoded columns\n",
    "def map_boolean_to_numeric(value):\n",
    "    return 1 if value else 0\n",
    "\n",
    "columns_to_encode = ['sex_Female', 'sex_Male', 'cp_asymptomatic', 'cp_atypical angina',\n",
    "                     'cp_non-anginal', 'cp_typical angina', 'fbs_False', 'fbs_True',\n",
    "                     'restecg_lv hypertrophy', 'restecg_normal', 'restecg_st-t abnormality',\n",
    "                     'exang_False', 'exang_True', 'slope_downsloping', 'slope_flat',\n",
    "                     'slope_upsloping', 'ca_0.0', 'ca_1.0', 'ca_2.0', 'ca_3.0',\n",
    "                     'thal_fixed defect', 'thal_normal', 'thal_reversable defect']\n",
    "\n",
    "data_1[columns_to_encode] = data_1[columns_to_encode].applymap(map_boolean_to_numeric)\n",
    "\n",
    "# Preview data\n",
    "data_1.head()\n"
   ]
  },
  {
   "cell_type": "markdown",
   "id": "b5e54ff5",
   "metadata": {},
   "source": [
    "### Exploratory data analysis\n",
    "\n",
    "Before we dive into any ML, lets explore the dataset"
   ]
  },
  {
   "cell_type": "code",
   "execution_count": 32,
   "id": "0d29f9ca",
   "metadata": {},
   "outputs": [
    {
     "data": {
      "text/plain": [
       "Text(0.5, 0, 'Age (years)')"
      ]
     },
     "execution_count": 32,
     "metadata": {},
     "output_type": "execute_result"
    },
    {
     "data": {
      "image/png": "[encoded data removed]",
      "text/plain": [
       "<Figure size 640x480 with 1 Axes>"
      ]
     },
     "metadata": {},
     "output_type": "display_data"
    }
   ],
   "source": [
    "# Age histogram\n",
    "data_1['age'].plot(kind='hist', bins=10, edgecolor='black', color='dodgerblue')\n",
    "plt.title('Age Histogram')\n",
    "plt.xlabel('Age (years)')\n"
   ]
  },
  {
   "cell_type": "code",
   "execution_count": 33,
   "id": "a5b8d2ef",
   "metadata": {},
   "outputs": [
    {
     "data": {
      "text/plain": [
       "Text(0.5, 0, 'BPS')"
      ]
     },
     "execution_count": 33,
     "metadata": {},
     "output_type": "execute_result"
    },
    {
     "data": {
      "image/png": "[encoded data removed]",
      "text/plain": [
       "<Figure size 640x480 with 1 Axes>"
      ]
     },
     "metadata": {},
     "output_type": "display_data"
    }
   ],
   "source": [
    "# Resting BPS histogram\n",
    "data_1['trestbps'].plot(kind='hist', bins=10, edgecolor='black', color='dodgerblue')\n",
    "plt.title('Resting BPS Histogram')\n",
    "plt.xlabel('BPS')"
   ]
  },
  {
   "cell_type": "code",
   "execution_count": 34,
   "id": "880a1f3a",
   "metadata": {},
   "outputs": [
    {
     "data": {
      "text/plain": [
       "Text(0.5, 0, 'Cholesteral')"
      ]
     },
     "execution_count": 34,
     "metadata": {},
     "output_type": "execute_result"
    },
    {
     "data": {
      "image/png": "[encoded data removed]",
      "text/plain": [
       "<Figure size 640x480 with 1 Axes>"
      ]
     },
     "metadata": {},
     "output_type": "display_data"
    }
   ],
   "source": [
    "# Cholesterol histogram\n",
    "data_1['chol'].plot(kind='hist', bins=10, edgecolor='black', color='dodgerblue')\n",
    "plt.title('Cholesteral Histogram')\n",
    "plt.xlabel('Cholesteral')"
   ]
  },
  {
   "cell_type": "code",
   "execution_count": 43,
   "id": "b7533c0c",
   "metadata": {},
   "outputs": [
    {
     "data": {
      "text/plain": [
       "Text(0.5, 0, 'Max Heart Rate')"
      ]
     },
     "execution_count": 43,
     "metadata": {},
     "output_type": "execute_result"
    },
    {
     "data": {
      "image/png": "[encoded data removed]",
      "text/plain": [
       "<Figure size 640x480 with 1 Axes>"
      ]
     },
     "metadata": {},
     "output_type": "display_data"
    }
   ],
   "source": [
    "# Maximum heart rate\n",
    "data_1['thalch'].plot(kind='hist', bins=10, edgecolor='black', color='dodgerblue')\n",
    "plt.title('Max Heart Rate Histogram')\n",
    "plt.xlabel('Max Heart Rate')"
   ]
  },
  {
   "cell_type": "code",
   "execution_count": 39,
   "id": "9d336397",
   "metadata": {},
   "outputs": [
    {
     "data": {
      "text/plain": [
       "Text(0.5, 1.0, 'Sex Distribution')"
      ]
     },
     "execution_count": 39,
     "metadata": {},
     "output_type": "execute_result"
    },
    {
     "data": {
      "image/png": "[encoded data removed]",
      "text/plain": [
       "<Figure size 640x480 with 1 Axes>"
      ]
     },
     "metadata": {},
     "output_type": "display_data"
    }
   ],
   "source": [
    "# Sex distribution\n",
    "sex_counts = data_1[['sex_Female', 'sex_Male']].sum()\n",
    "sex_counts.plot(kind='bar', color=['salmon', 'dodgerblue'], edgecolor='black')\n",
    "plt.title('Sex Distribution')"
   ]
  },
  {
   "cell_type": "code",
   "execution_count": 41,
   "id": "63966ddb",
   "metadata": {},
   "outputs": [
    {
     "data": {
      "text/plain": [
       "Text(0.5, 1.0, 'Types of Chest Pain')"
      ]
     },
     "execution_count": 41,
     "metadata": {},
     "output_type": "execute_result"
    },
    {
     "data": {
      "image/png": "[encoded data removed]",
      "text/plain": [
       "<Figure size 640x480 with 1 Axes>"
      ]
     },
     "metadata": {},
     "output_type": "display_data"
    }
   ],
   "source": [
    "# Chest pain distribution\n",
    "sex_counts = data_1[['cp_asymptomatic', 'cp_atypical angina', 'cp_non-anginal', 'cp_typical angina']].sum()\n",
    "sex_counts.plot(kind='bar', color=['green', 'salmon', 'dodgerblue', 'darkorange'], edgecolor='black')\n",
    "plt.title('Types of Chest Pain')"
   ]
  },
  {
   "cell_type": "code",
   "execution_count": 44,
   "id": "ece2aa82",
   "metadata": {},
   "outputs": [
    {
     "data": {
      "text/plain": [
       "Text(0.5, 1.0, 'Number of Major Vessesls Colored  by Flouroscopy')"
      ]
     },
     "execution_count": 44,
     "metadata": {},
     "output_type": "execute_result"
    },
    {
     "data": {
      "image/png": "[encoded data removed]",
      "text/plain": [
       "<Figure size 640x480 with 1 Axes>"
      ]
     },
     "metadata": {},
     "output_type": "display_data"
    }
   ],
   "source": [
    "# Number of major vessels colored by flouroscopy count\n",
    "sex_counts = data_1[['ca_0.0', 'ca_1.0', 'ca_2.0', 'ca_3.0']].sum()\n",
    "sex_counts.plot(kind='bar', color=['green', 'salmon', 'dodgerblue', 'darkorange'], edgecolor='black')\n",
    "plt.title('Number of Major Vessesls Colored  by Flouroscopy')"
   ]
  },
  {
   "cell_type": "code",
   "execution_count": null,
   "id": "e02a67bf",
   "metadata": {},
   "outputs": [],
   "source": []
  },
  {
   "cell_type": "markdown",
   "id": "50848444",
   "metadata": {},
   "source": [
    "Now that we have an idea of the distributions of continuous variables and counts of categorical variables, we can try some ML models to see if we can predict the target class. \n",
    "\n",
    "The UCI heart disease dataset has some variations available online. The Cleavland dataset has been clasically used for ML models. For this dataset, we have four locations and 5 different classes (column ID == num)\n",
    "* 0 = no heart disease\n",
    "* 1 = stage 1 heart disease\n",
    "* 2 = stage 2 heart disease\n",
    "* 3 = stage 3 heart disease\n",
    "* 4 = stage 4 heart disease\n",
    "\n",
    "First, lets try a binary classification to predict either 0 (no heart disease) or labels 2-4 (heart disease)\n"
   ]
  },
  {
   "cell_type": "code",
   "execution_count": 56,
   "id": "92f07ba1",
   "metadata": {},
   "outputs": [
    {
     "data": {
      "text/plain": [
       "Text(0.5, 1.0, 'Binary Class Distribution (0 = No HD, 1 = HD)')"
      ]
     },
     "execution_count": 56,
     "metadata": {},
     "output_type": "execute_result"
    },
    {
     "data": {
      "image/png": "[encoded data removed]",
      "text/plain": [
       "<Figure size 640x480 with 1 Axes>"
      ]
     },
     "metadata": {},
     "output_type": "display_data"
    }
   ],
   "source": [
    "# Drop columns and assign a new dataframe\n",
    "data_2 = data_1.drop(['id', 'dataset'], axis=1)\n",
    "\n",
    "# Create a new column for binary classification\n",
    "data_2['label_binary'] = np.where(data_2['num'] == 0, 0, 1)\n",
    "\n",
    "# Visualize class distribution for binary case\n",
    "binary_counts = data_2['label_binary'].value_counts()\n",
    "binary_counts.plot(kind='bar', color=['salmon', 'dodgerblue'], edgecolor='black')\n",
    "plt.title('Binary Class Distribution (0 = No HD, 1 = HD)')\n"
   ]
  },
  {
   "cell_type": "markdown",
   "id": "d38646ff",
   "metadata": {},
   "source": [
    "Looks like we have an approximately equal number of class labels. Before any predictive modeling, lets scale our continuous variables."
   ]
  },
  {
   "cell_type": "code",
   "execution_count": 57,
   "id": "0ed46938",
   "metadata": {},
   "outputs": [
    {
     "name": "stdout",
     "output_type": "stream",
     "text": [
      "Number of rows before removing NaNs:  920\n",
      "Number of rows before removing NaNs:  827\n"
     ]
    },
    {
     "data": {
      "text/html": [
       "<div>\n",
       "<style scoped>\n",
       "    .dataframe tbody tr th:only-of-type {\n",
       "        vertical-align: middle;\n",
       "    }\n",
       "\n",
       "    .dataframe tbody tr th {\n",
       "        vertical-align: top;\n",
       "    }\n",
       "\n",
       "    .dataframe thead th {\n",
       "        text-align: right;\n",
       "    }\n",
       "</style>\n",
       "<table border=\"1\" class=\"dataframe\">\n",
       "  <thead>\n",
       "    <tr style=\"text-align: right;\">\n",
       "      <th></th>\n",
       "      <th>age</th>\n",
       "      <th>trestbps</th>\n",
       "      <th>chol</th>\n",
       "      <th>thalch</th>\n",
       "      <th>oldpeak</th>\n",
       "      <th>sex_Female</th>\n",
       "      <th>sex_Male</th>\n",
       "      <th>cp_asymptomatic</th>\n",
       "      <th>cp_atypical angina</th>\n",
       "      <th>cp_non-anginal</th>\n",
       "      <th>...</th>\n",
       "      <th>slope_flat</th>\n",
       "      <th>slope_upsloping</th>\n",
       "      <th>ca_0.0</th>\n",
       "      <th>ca_1.0</th>\n",
       "      <th>ca_2.0</th>\n",
       "      <th>ca_3.0</th>\n",
       "      <th>thal_fixed defect</th>\n",
       "      <th>thal_normal</th>\n",
       "      <th>thal_reversable defect</th>\n",
       "      <th>label_binary</th>\n",
       "    </tr>\n",
       "  </thead>\n",
       "  <tbody>\n",
       "    <tr>\n",
       "      <th>0</th>\n",
       "      <td>1.007386</td>\n",
       "      <td>0.675287</td>\n",
       "      <td>0.305908</td>\n",
       "      <td>0.480653</td>\n",
       "      <td>1.303159</td>\n",
       "      <td>0</td>\n",
       "      <td>1</td>\n",
       "      <td>0</td>\n",
       "      <td>0</td>\n",
       "      <td>0</td>\n",
       "      <td>...</td>\n",
       "      <td>0</td>\n",
       "      <td>0</td>\n",
       "      <td>1</td>\n",
       "      <td>0</td>\n",
       "      <td>0</td>\n",
       "      <td>0</td>\n",
       "      <td>1</td>\n",
       "      <td>0</td>\n",
       "      <td>0</td>\n",
       "      <td>0</td>\n",
       "    </tr>\n",
       "    <tr>\n",
       "      <th>1</th>\n",
       "      <td>1.432034</td>\n",
       "      <td>1.462483</td>\n",
       "      <td>0.784599</td>\n",
       "      <td>-1.140262</td>\n",
       "      <td>0.569611</td>\n",
       "      <td>0</td>\n",
       "      <td>1</td>\n",
       "      <td>1</td>\n",
       "      <td>0</td>\n",
       "      <td>0</td>\n",
       "      <td>...</td>\n",
       "      <td>1</td>\n",
       "      <td>0</td>\n",
       "      <td>0</td>\n",
       "      <td>0</td>\n",
       "      <td>0</td>\n",
       "      <td>1</td>\n",
       "      <td>0</td>\n",
       "      <td>1</td>\n",
       "      <td>0</td>\n",
       "      <td>1</td>\n",
       "    </tr>\n",
       "    <tr>\n",
       "      <th>2</th>\n",
       "      <td>1.432034</td>\n",
       "      <td>-0.636705</td>\n",
       "      <td>0.269780</td>\n",
       "      <td>-0.329805</td>\n",
       "      <td>1.578239</td>\n",
       "      <td>0</td>\n",
       "      <td>1</td>\n",
       "      <td>1</td>\n",
       "      <td>0</td>\n",
       "      <td>0</td>\n",
       "      <td>...</td>\n",
       "      <td>1</td>\n",
       "      <td>0</td>\n",
       "      <td>0</td>\n",
       "      <td>0</td>\n",
       "      <td>1</td>\n",
       "      <td>0</td>\n",
       "      <td>0</td>\n",
       "      <td>0</td>\n",
       "      <td>1</td>\n",
       "      <td>1</td>\n",
       "    </tr>\n",
       "    <tr>\n",
       "      <th>3</th>\n",
       "      <td>-1.752828</td>\n",
       "      <td>-0.111908</td>\n",
       "      <td>0.459450</td>\n",
       "      <td>1.908602</td>\n",
       "      <td>2.403480</td>\n",
       "      <td>0</td>\n",
       "      <td>1</td>\n",
       "      <td>0</td>\n",
       "      <td>0</td>\n",
       "      <td>1</td>\n",
       "      <td>...</td>\n",
       "      <td>0</td>\n",
       "      <td>0</td>\n",
       "      <td>1</td>\n",
       "      <td>0</td>\n",
       "      <td>0</td>\n",
       "      <td>0</td>\n",
       "      <td>0</td>\n",
       "      <td>1</td>\n",
       "      <td>0</td>\n",
       "      <td>0</td>\n",
       "    </tr>\n",
       "    <tr>\n",
       "      <th>4</th>\n",
       "      <td>-1.328180</td>\n",
       "      <td>-0.111908</td>\n",
       "      <td>0.043982</td>\n",
       "      <td>1.329704</td>\n",
       "      <td>0.477918</td>\n",
       "      <td>1</td>\n",
       "      <td>0</td>\n",
       "      <td>0</td>\n",
       "      <td>1</td>\n",
       "      <td>0</td>\n",
       "      <td>...</td>\n",
       "      <td>0</td>\n",
       "      <td>1</td>\n",
       "      <td>1</td>\n",
       "      <td>0</td>\n",
       "      <td>0</td>\n",
       "      <td>0</td>\n",
       "      <td>0</td>\n",
       "      <td>1</td>\n",
       "      <td>0</td>\n",
       "      <td>0</td>\n",
       "    </tr>\n",
       "  </tbody>\n",
       "</table>\n",
       "<p>5 rows × 29 columns</p>\n",
       "</div>"
      ],
      "text/plain": [
       "        age  trestbps      chol    thalch   oldpeak  sex_Female  sex_Male  \\\n",
       "0  1.007386  0.675287  0.305908  0.480653  1.303159           0         1   \n",
       "1  1.432034  1.462483  0.784599 -1.140262  0.569611           0         1   \n",
       "2  1.432034 -0.636705  0.269780 -0.329805  1.578239           0         1   \n",
       "3 -1.752828 -0.111908  0.459450  1.908602  2.403480           0         1   \n",
       "4 -1.328180 -0.111908  0.043982  1.329704  0.477918           1         0   \n",
       "\n",
       "   cp_asymptomatic  cp_atypical angina  cp_non-anginal  ...  slope_flat  \\\n",
       "0                0                   0               0  ...           0   \n",
       "1                1                   0               0  ...           1   \n",
       "2                1                   0               0  ...           1   \n",
       "3                0                   0               1  ...           0   \n",
       "4                0                   1               0  ...           0   \n",
       "\n",
       "   slope_upsloping  ca_0.0  ca_1.0  ca_2.0  ca_3.0  thal_fixed defect  \\\n",
       "0                0       1       0       0       0                  1   \n",
       "1                0       0       0       0       1                  0   \n",
       "2                0       0       0       1       0                  0   \n",
       "3                0       1       0       0       0                  0   \n",
       "4                1       1       0       0       0                  0   \n",
       "\n",
       "   thal_normal  thal_reversable defect  label_binary  \n",
       "0            0                       0             0  \n",
       "1            1                       0             1  \n",
       "2            0                       1             1  \n",
       "3            1                       0             0  \n",
       "4            1                       0             0  \n",
       "\n",
       "[5 rows x 29 columns]"
      ]
     },
     "execution_count": 57,
     "metadata": {},
     "output_type": "execute_result"
    }
   ],
   "source": [
    "# Scale data\n",
    "scaler = StandardScaler()\n",
    "data_2[['age', 'trestbps', 'chol', 'thalch', 'oldpeak']] = scaler.fit_transform(data_2[['age', 'trestbps', 'chol', 'thalch', 'oldpeak']])\n",
    "\n",
    "# We can also remove the 'num' column from this dataset\n",
    "data_2 = data_2.drop(['num'], axis=1)\n",
    "\n",
    "# Print number of rows before removing NaNs\n",
    "print('Number of rows before removing NaNs: ', len(data_2))\n",
    "\n",
    "# Remove any rows that contain NaNs\n",
    "data_2 = data_2.dropna()\n",
    "\n",
    "# Print number of rows after removing NaNs\n",
    "print('Number of rows before removing NaNs: ', len(data_2))\n",
    "\n",
    "# Preview dataframe\n",
    "data_2.head()\n"
   ]
  },
  {
   "cell_type": "markdown",
   "id": "149a5add",
   "metadata": {},
   "source": [
    "#### Assign training and testing data"
   ]
  },
  {
   "cell_type": "code",
   "execution_count": 58,
   "id": "484805e8",
   "metadata": {},
   "outputs": [],
   "source": [
    "# Assign labels and data\n",
    "y = data_2['label_binary']\n",
    "X = data_2.drop(['label_binary'], axis=1)\n",
    "X_train, X_test, y_train, y_test = train_test_split(X, y, test_size = 0.2, random_state = 42)"
   ]
  },
  {
   "cell_type": "markdown",
   "id": "521f0ff2",
   "metadata": {},
   "source": [
    "#### KNN Classifier\n",
    "\n",
    "K-nearest neighbors with k ranging from 1 to 50"
   ]
  },
  {
   "cell_type": "code",
   "execution_count": 63,
   "id": "3bac6ebc",
   "metadata": {},
   "outputs": [
    {
     "name": "stdout",
     "output_type": "stream",
     "text": [
      "K with highest accuracy 10\n"
     ]
    },
    {
     "data": {
      "image/png": "[encoded data removed]",
      "text/plain": [
       "<Figure size 640x480 with 1 Axes>"
      ]
     },
     "metadata": {},
     "output_type": "display_data"
    }
   ],
   "source": [
    "# Train and test algorithm for K = 1:50\n",
    "knn_accuracies = []\n",
    "for n in range(1,50):\n",
    "    knn_classifier = KNeighborsClassifier(n_neighbors = n)\n",
    "    knn_classifier.fit(X_train, y_train)\n",
    "    accuracy = knn_classifier.score(X_test, y_test)\n",
    "    knn_accuracies.append(accuracy)\n",
    "    \n",
    "# Plot accuracy \n",
    "plt.plot(knn_accuracies)\n",
    "plt.title('KNN accuracy for each number of features')\n",
    "\n",
    "# Print the number of neighbors with the highest accuracy\n",
    "print(f'K with highest accuracy {np.argmax(knn_accuracies)+1}')"
   ]
  },
  {
   "cell_type": "markdown",
   "id": "ae43f6f9",
   "metadata": {},
   "source": [
    "So it looks like we should set k=10 to get the best performance"
   ]
  },
  {
   "cell_type": "code",
   "execution_count": 66,
   "id": "6b8448f8",
   "metadata": {},
   "outputs": [
    {
     "name": "stdout",
     "output_type": "stream",
     "text": [
      "Accuracy: 0.8554216867469879\n"
     ]
    },
    {
     "data": {
      "image/png": "[encoded data removed]",
      "text/plain": [
       "<Figure size 800x600 with 2 Axes>"
      ]
     },
     "metadata": {},
     "output_type": "display_data"
    }
   ],
   "source": [
    "# Fit classifier with k=10\n",
    "knn_classifier = KNeighborsClassifier(n_neighbors = 10)\n",
    "knn_classifier.fit(X_train, y_train)\n",
    "y_pred = knn_classifier.predict(X_test)\n",
    "\n",
    "\n",
    "# Evaluate the model\n",
    "accuracy = accuracy_score(y_test, y_pred)\n",
    "conf_matrix = confusion_matrix(y_test, y_pred)\n",
    "classification_rep = classification_report(y_test, y_pred)\n",
    "\n",
    "# Display results\n",
    "# Accuracy\n",
    "print(\"Accuracy:\", accuracy)\n",
    "\n",
    "# Confusion matrix\n",
    "plt.figure(figsize=(8, 6))\n",
    "sns.heatmap(conf_matrix, annot=True, fmt='d', cmap='Blues', xticklabels=['Class 0', 'Class 1'], yticklabels=['Class 0', 'Class 1'])\n",
    "plt.title('Confusion Matrix')\n",
    "plt.xlabel('Predicted')\n",
    "plt.ylabel('Actual')\n",
    "plt.show()"
   ]
  },
  {
   "cell_type": "markdown",
   "id": "b1893e4f",
   "metadata": {},
   "source": [
    "Looks like KNN performs pretty well with this dataset. Lets try SVM next.\n",
    "\n",
    "#### Support Vector Machine\n",
    "\n",
    "SVM has multiple hyperparams including kernel, regularization, and degree of polynomial kernel. Lets try each of the different kernels and see which one performs the best"
   ]
  },
  {
   "cell_type": "code",
   "execution_count": 72,
   "id": "40607ad2",
   "metadata": {},
   "outputs": [
    {
     "name": "stdout",
     "output_type": "stream",
     "text": [
      "----Linear Kernel Results----\n",
      "Highest accuracy: 0.8132530120481928\n",
      "C with highest accuracy 2\n"
     ]
    }
   ],
   "source": [
    "# Linear kernel\n",
    "\n",
    "# List to store accuracies\n",
    "svm_accuracies = []\n",
    "\n",
    "# Loop over range of regularization params\n",
    "for c_param in range(1,11):\n",
    "    \n",
    "    # Fit model and calculate training accuracy\n",
    "    svm = SVC(kernel='linear', C=c_param)\n",
    "    svm.fit(X_train, y_train)\n",
    "    svm_accuracies.append(svm.score(X_test, y_test))\n",
    "\n",
    "print('----Linear Kernel Results----')\n",
    "print(f'Highest accuracy: {max(svm_accuracies)}')\n",
    "print(f'C with highest accuracy {np.argmax(svm_accuracies)+1}')\n"
   ]
  },
  {
   "cell_type": "code",
   "execution_count": 73,
   "id": "9dc40905",
   "metadata": {},
   "outputs": [
    {
     "name": "stdout",
     "output_type": "stream",
     "text": [
      "----RBF Kernel Results----\n",
      "Highest accuracy: 0.8132530120481928\n",
      "C with highest accuracy 1\n"
     ]
    }
   ],
   "source": [
    "# RBF kernel\n",
    "\n",
    "# List to store accuracies\n",
    "svm_accuracies = []\n",
    "\n",
    "# Loop over range of regularization params\n",
    "for c_param in range(1,11):\n",
    "    \n",
    "    # Fit model and calculate training accuracy\n",
    "    svm = SVC(kernel='rbf', C=c_param)\n",
    "    svm.fit(X_train, y_train)\n",
    "    svm_accuracies.append(svm.score(X_test, y_test))\n",
    "\n",
    "print('----RBF Kernel Results----')\n",
    "print(f'Highest accuracy: {max(svm_accuracies)}')\n",
    "print(f'C with highest accuracy {np.argmax(svm_accuracies)+1}')"
   ]
  },
  {
   "cell_type": "code",
   "execution_count": 75,
   "id": "577d4339",
   "metadata": {},
   "outputs": [
    {
     "name": "stdout",
     "output_type": "stream",
     "text": [
      "----Polynomial Kernel Results----\n",
      "Highest accuracy: 0.8072289156626506\n"
     ]
    }
   ],
   "source": [
    "# Polynomail kernel\n",
    "\n",
    "# List to store accuracies\n",
    "svm_accuracies = []\n",
    "\n",
    "# Loop over range of regularization params\n",
    "for c_param in range(1,11):\n",
    "    \n",
    "    for p in range(2,6):\n",
    "    \n",
    "        # Fit model and calculate training accuracy\n",
    "        svm = SVC(kernel='poly', C=c_param, degree=p)\n",
    "        svm.fit(X_train, y_train)\n",
    "        svm_accuracies.append(svm.score(X_test, y_test))\n",
    "\n",
    "print('----Polynomial Kernel Results----')\n",
    "print(f'Highest accuracy: {max(svm_accuracies)}')"
   ]
  },
  {
   "cell_type": "markdown",
   "id": "bba8319a",
   "metadata": {},
   "source": [
    "Clearly, the RBF and linear kernels perform the best. See results on test set"
   ]
  },
  {
   "cell_type": "code",
   "execution_count": 77,
   "id": "cebff07a",
   "metadata": {},
   "outputs": [
    {
     "name": "stdout",
     "output_type": "stream",
     "text": [
      "RBF Kernel Test Accuracy:  0.8132530120481928\n",
      "Linear Kernel Test Accuracy:  0.8132530120481928\n"
     ]
    }
   ],
   "source": [
    "# Fit and test model with RBF kernel\n",
    "svm = SVC(kernel='rbf', C=1)\n",
    "svm.fit(X_train, y_train)\n",
    "y_pred = svm.predict(X_test)\n",
    "print(f'RBF Kernel Test Accuracy: ', accuracy_score(y_test, y_pred))\n",
    "\n",
    "# Fit and test model with linear kernel\n",
    "svm = SVC(kernel='linear', C=2)\n",
    "svm.fit(X_train, y_train)\n",
    "y_pred = svm.predict(X_test)\n",
    "print(f'Linear Kernel Test Accuracy: ', accuracy_score(y_test, y_pred))"
   ]
  },
  {
   "cell_type": "markdown",
   "id": "d354f770",
   "metadata": {},
   "source": [
    "Looks like we get the same accuracy for both kernels, however niether of them outperform KNN. Lets try a decision tree model next. \n",
    "\n",
    "#### Decision Tree\n",
    "\n",
    "There are two different criterion for determining the nodes for each split (Gini and Entropy). Entropy measures the level of disorder and Gini impurity quantifies the probability of misclassifying an instance."
   ]
  },
  {
   "cell_type": "code",
   "execution_count": 79,
   "id": "2641537e",
   "metadata": {},
   "outputs": [
    {
     "name": "stdout",
     "output_type": "stream",
     "text": [
      "----Gini Criterion Results----\n",
      "Highest accuracy: 0.7590361445783133\n",
      "Max features with highest accuracy 2\n"
     ]
    }
   ],
   "source": [
    "# Gini criterion\n",
    "\n",
    "# List of accuracies\n",
    "dt_accuracies = []\n",
    "    \n",
    "# Loop over range of number of features\n",
    "for i in range(1, len(X_train.columns)+1):\n",
    "\n",
    "    dt = DecisionTreeClassifier(criterion='gini', max_features=i, random_state=42)\n",
    "    dt.fit(X_train, y_train)\n",
    "    dt_accuracies.append(dt.score(X_test, y_test))\n",
    "\n",
    "# Print results\n",
    "print('----Gini Criterion Results----')\n",
    "print(f'Highest accuracy: {max(dt_accuracies)}')\n",
    "print(f'Max features with highest accuracy {np.argmax(dt_accuracies)+1}')\n"
   ]
  },
  {
   "cell_type": "code",
   "execution_count": 80,
   "id": "302e77cd",
   "metadata": {},
   "outputs": [
    {
     "name": "stdout",
     "output_type": "stream",
     "text": [
      "----Entropy Criterion Results----\n",
      "Highest accuracy: 0.7771084337349398\n",
      "Max features with highest accuracy 9\n"
     ]
    }
   ],
   "source": [
    "# Entropy criterion\n",
    "\n",
    "# List of accuracies\n",
    "dt_accuracies = []\n",
    "    \n",
    "# Loop over range of number of features\n",
    "for i in range(1, len(X_train.columns)+1):\n",
    "\n",
    "    dt = DecisionTreeClassifier(criterion='entropy', max_features=i, random_state=42)\n",
    "    dt.fit(X_train, y_train)\n",
    "    dt_accuracies.append(dt.score(X_test, y_test))\n",
    "\n",
    "# Print results\n",
    "print('----Entropy Criterion Results----')\n",
    "print(f'Highest accuracy: {max(dt_accuracies)}')\n",
    "print(f'Max features with highest accuracy {np.argmax(dt_accuracies)+1}')"
   ]
  },
  {
   "cell_type": "markdown",
   "id": "45f04593",
   "metadata": {},
   "source": [
    "Neither criterion for a decision tree outperformed KNN. Lets try logistic regression as our final model.\n",
    "\n",
    "For LR, we'll try a few different penalty terms and several regularization params."
   ]
  },
  {
   "cell_type": "code",
   "execution_count": 86,
   "id": "3ad178d6",
   "metadata": {},
   "outputs": [
    {
     "name": "stdout",
     "output_type": "stream",
     "text": [
      "----L1 Penalty Results----\n",
      "Highest accuracy: 0.8313253012048193\n",
      "C with highest accuracy 3\n"
     ]
    }
   ],
   "source": [
    "# L1 penalty with liblinear solver\n",
    "\n",
    "# List to store accuracies\n",
    "lr_accuracies = []\n",
    "\n",
    "# List of C params\n",
    "c_params = [0.001, 0.01, 0.1, 1, 5, 10]\n",
    "\n",
    "# Loop over range of regularization params\n",
    "for c_param in c_params:\n",
    "    \n",
    "    # Fit model and calculate training accuracy\n",
    "    lr = LogisticRegression(penalty='l1', C=c_param, solver='liblinear')\n",
    "    lr.fit(X_train, y_train)\n",
    "    lr_accuracies.append(lr.score(X_test, y_test))\n",
    "\n",
    "print('----L1 Penalty Results----')\n",
    "print(f'Highest accuracy: {max(lr_accuracies)}')\n",
    "print(f'C with highest accuracy {np.argmax(lr_accuracies)+1}')"
   ]
  },
  {
   "cell_type": "code",
   "execution_count": 89,
   "id": "6ba7d5ae",
   "metadata": {},
   "outputs": [
    {
     "name": "stdout",
     "output_type": "stream",
     "text": [
      "----L2 Penalty Results----\n",
      "Highest accuracy: 0.8253012048192772\n",
      "C with highest accuracy 2\n"
     ]
    }
   ],
   "source": [
    "# L2 penalty with liblinear solver\n",
    "\n",
    "# List to store accuracies\n",
    "lr_accuracies = []\n",
    "\n",
    "# List of C params\n",
    "c_params = [0.001, 0.01, 0.1, 1, 5, 10]\n",
    "\n",
    "# Loop over range of regularization params\n",
    "for c_param in c_params:\n",
    "    \n",
    "    # Fit model and calculate training accuracy\n",
    "    lr = LogisticRegression(penalty='l2', C=c_param, solver='liblinear')\n",
    "    lr.fit(X_train, y_train)\n",
    "    lr_accuracies.append(lr.score(X_test, y_test))\n",
    "\n",
    "print('----L2 Penalty Results----')\n",
    "print(f'Highest accuracy: {max(lr_accuracies)}')\n",
    "print(f'C with highest accuracy {np.argmax(lr_accuracies)+1}')"
   ]
  },
  {
   "cell_type": "code",
   "execution_count": 91,
   "id": "6985cc33",
   "metadata": {},
   "outputs": [
    {
     "name": "stdout",
     "output_type": "stream",
     "text": [
      "----No Penalty Results----\n",
      "Highest accuracy: 0.8192771084337349\n",
      "C with highest accuracy 1\n"
     ]
    },
    {
     "name": "stderr",
     "output_type": "stream",
     "text": [
      "/Users/rossbrancati/opt/anaconda3/lib/python3.8/site-packages/sklearn/linear_model/_logistic.py:1193: UserWarning: Setting penalty=None will ignore the C and l1_ratio parameters\n",
      "  warnings.warn(\n",
      "/Users/rossbrancati/opt/anaconda3/lib/python3.8/site-packages/sklearn/linear_model/_logistic.py:460: ConvergenceWarning: lbfgs failed to converge (status=1):\n",
      "STOP: TOTAL NO. of ITERATIONS REACHED LIMIT.\n",
      "\n",
      "Increase the number of iterations (max_iter) or scale the data as shown in:\n",
      "    https://scikit-learn.org/stable/modules/preprocessing.html\n",
      "Please also refer to the documentation for alternative solver options:\n",
      "    https://scikit-learn.org/stable/modules/linear_model.html#logistic-regression\n",
      "  n_iter_i = _check_optimize_result(\n",
      "/Users/rossbrancati/opt/anaconda3/lib/python3.8/site-packages/sklearn/linear_model/_logistic.py:1193: UserWarning: Setting penalty=None will ignore the C and l1_ratio parameters\n",
      "  warnings.warn(\n",
      "/Users/rossbrancati/opt/anaconda3/lib/python3.8/site-packages/sklearn/linear_model/_logistic.py:460: ConvergenceWarning: lbfgs failed to converge (status=1):\n",
      "STOP: TOTAL NO. of ITERATIONS REACHED LIMIT.\n",
      "\n",
      "Increase the number of iterations (max_iter) or scale the data as shown in:\n",
      "    https://scikit-learn.org/stable/modules/preprocessing.html\n",
      "Please also refer to the documentation for alternative solver options:\n",
      "    https://scikit-learn.org/stable/modules/linear_model.html#logistic-regression\n",
      "  n_iter_i = _check_optimize_result(\n",
      "/Users/rossbrancati/opt/anaconda3/lib/python3.8/site-packages/sklearn/linear_model/_logistic.py:1193: UserWarning: Setting penalty=None will ignore the C and l1_ratio parameters\n",
      "  warnings.warn(\n",
      "/Users/rossbrancati/opt/anaconda3/lib/python3.8/site-packages/sklearn/linear_model/_logistic.py:460: ConvergenceWarning: lbfgs failed to converge (status=1):\n",
      "STOP: TOTAL NO. of ITERATIONS REACHED LIMIT.\n",
      "\n",
      "Increase the number of iterations (max_iter) or scale the data as shown in:\n",
      "    https://scikit-learn.org/stable/modules/preprocessing.html\n",
      "Please also refer to the documentation for alternative solver options:\n",
      "    https://scikit-learn.org/stable/modules/linear_model.html#logistic-regression\n",
      "  n_iter_i = _check_optimize_result(\n",
      "/Users/rossbrancati/opt/anaconda3/lib/python3.8/site-packages/sklearn/linear_model/_logistic.py:460: ConvergenceWarning: lbfgs failed to converge (status=1):\n",
      "STOP: TOTAL NO. of ITERATIONS REACHED LIMIT.\n",
      "\n",
      "Increase the number of iterations (max_iter) or scale the data as shown in:\n",
      "    https://scikit-learn.org/stable/modules/preprocessing.html\n",
      "Please also refer to the documentation for alternative solver options:\n",
      "    https://scikit-learn.org/stable/modules/linear_model.html#logistic-regression\n",
      "  n_iter_i = _check_optimize_result(\n",
      "/Users/rossbrancati/opt/anaconda3/lib/python3.8/site-packages/sklearn/linear_model/_logistic.py:1193: UserWarning: Setting penalty=None will ignore the C and l1_ratio parameters\n",
      "  warnings.warn(\n",
      "/Users/rossbrancati/opt/anaconda3/lib/python3.8/site-packages/sklearn/linear_model/_logistic.py:460: ConvergenceWarning: lbfgs failed to converge (status=1):\n",
      "STOP: TOTAL NO. of ITERATIONS REACHED LIMIT.\n",
      "\n",
      "Increase the number of iterations (max_iter) or scale the data as shown in:\n",
      "    https://scikit-learn.org/stable/modules/preprocessing.html\n",
      "Please also refer to the documentation for alternative solver options:\n",
      "    https://scikit-learn.org/stable/modules/linear_model.html#logistic-regression\n",
      "  n_iter_i = _check_optimize_result(\n",
      "/Users/rossbrancati/opt/anaconda3/lib/python3.8/site-packages/sklearn/linear_model/_logistic.py:1193: UserWarning: Setting penalty=None will ignore the C and l1_ratio parameters\n",
      "  warnings.warn(\n",
      "/Users/rossbrancati/opt/anaconda3/lib/python3.8/site-packages/sklearn/linear_model/_logistic.py:460: ConvergenceWarning: lbfgs failed to converge (status=1):\n",
      "STOP: TOTAL NO. of ITERATIONS REACHED LIMIT.\n",
      "\n",
      "Increase the number of iterations (max_iter) or scale the data as shown in:\n",
      "    https://scikit-learn.org/stable/modules/preprocessing.html\n",
      "Please also refer to the documentation for alternative solver options:\n",
      "    https://scikit-learn.org/stable/modules/linear_model.html#logistic-regression\n",
      "  n_iter_i = _check_optimize_result(\n"
     ]
    }
   ],
   "source": [
    "# No penalty\n",
    "\n",
    "# List to store accuracies\n",
    "lr_accuracies = []\n",
    "\n",
    "# List of C params\n",
    "c_params = [0.001, 0.01, 0.1, 1, 5, 10]\n",
    "\n",
    "# Loop over range of regularization params\n",
    "for c_param in c_params:\n",
    "    \n",
    "    # Fit model and calculate training accuracy\n",
    "    lr = LogisticRegression(penalty=None, C=c_param, solver='lbfgs')\n",
    "    lr.fit(X_train, y_train)\n",
    "    lr_accuracies.append(lr.score(X_test, y_test))\n",
    "\n",
    "print('----No Penalty Results----')\n",
    "print(f'Highest accuracy: {max(lr_accuracies)}')\n",
    "print(f'C with highest accuracy {np.argmax(lr_accuracies)+1}')"
   ]
  },
  {
   "cell_type": "markdown",
   "id": "0464b76a",
   "metadata": {},
   "source": [
    "LR performed pretty well (still a couple percent lower than KNN in terms of test set accuracy).\n",
    "\n",
    "Overall, a test set accuracy of 85% is pretty good for a health care related dataset. Unfortunately one of the limitations of KNN is that it isn't very interpretable (unlike LR or SVM). Interpreting the features could provide the user/researcher with a better idea of features that are most important for classifying these groups. Interpretable models should be considered in real-world scenarios. "
   ]
  },
  {
   "cell_type": "markdown",
   "id": "540f73c3",
   "metadata": {},
   "source": [
    "Conclusions:\n",
    "\n",
    "* We were able to achieve 85% accuracy in predicting risk of heart disease with a simple classifier model, which is pretty good performance in a health care application. \n",
    "* Other classifiers did not perform as well with this dataset. Perhaps they perform better with different features, more observations, etc. One of the limitations in ML for health care applications is the availability of robust, clean data to train these models with. \n",
    "* We tried many different hyperparameters, and could continue to test more to improve accuracy\n",
    "* The confusion matrix from the KNN model shows that this model does not produce many false positives (10) or false negatives (14), which is very important for this application. Neither situation is great, but we really want to try to avoid false negative cases where a patient's risk may be undermined. Better to have a false positive than a false negative, but neither are ideal. "
   ]
  },
  {
   "cell_type": "code",
   "execution_count": null,
   "id": "b2b6333d",
   "metadata": {},
   "outputs": [],
   "source": []
  }
 ],
 "metadata": {
  "kernelspec": {
   "display_name": "Python 3 (ipykernel)",
   "language": "python",
   "name": "python3"
  },
  "language_info": {
   "codemirror_mode": {
    "name": "ipython",
    "version": 3
   },
   "file_extension": ".py",
   "mimetype": "text/x-python",
   "name": "python",
   "nbconvert_exporter": "python",
   "pygments_lexer": "ipython3",
   "version": "3.8.18"
  }
 },
 "nbformat": 4,
 "nbformat_minor": 5
}
